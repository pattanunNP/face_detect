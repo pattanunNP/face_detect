{
 "cells": [
  {
   "cell_type": "code",
   "execution_count": 63,
   "metadata": {},
   "outputs": [],
   "source": [
    "import os \n",
    "from tqdm import notebook\n",
    "import pandas as pd\n",
    "import json\n",
    "import natsort"
   ]
  },
  {
   "cell_type": "code",
   "execution_count": 84,
   "metadata": {},
   "outputs": [],
   "source": [
    "database = pd.read_csv('./DataMap1.csv')"
   ]
  },
  {
   "cell_type": "code",
   "execution_count": 85,
   "metadata": {},
   "outputs": [
    {
     "data": {
      "text/plain": [
       "592               นายกานต์ เล็กสุนทร\n",
       "593         นางสาวจิดาภา ฤชุวรารักษ์\n",
       "594               นายญาณวัฒน์ สมอ่อน\n",
       "595        นายฐิธติรัฐ รัตนพงศ์กิตติ\n",
       "596              นายณัฐภัทร แสงสว่าง\n",
       "597              นายทักษ์ดนัย ศรีสุข\n",
       "598    นายธีรพิชญ์ ศิริไชยบูลย์วัฒน์\n",
       "599         นางสาวนภสกรณ์ สุวรรณบุตร\n",
       "600               นางสาวนภสร จางคกูล\n",
       "601           นางสาวนันทกานต์ กรเกษม\n",
       "602               นายบุญพบ สุตะพันธ์\n",
       "603            นางสาวเบญญาภา กุยแก้ว\n",
       "604        นางสาวพรพิชญ์พัณ เนียมหอม\n",
       "605        นางสาวพลอยไพลิน จันทร์ศรี\n",
       "606            นายพัทธนันท์ นุ่มผ่อง\n",
       "607          นางสาวพิชญาภัค ภูวทิตย์\n",
       "608             นายพิทยุตม์ กิ่งแก้ว\n",
       "609             นางสาวลักษิกา โพยนอก\n",
       "610        นางสาวศรัณย์พร เลิศสีมาพร\n",
       "611       นายศศิกฤษฎิ์ ฤทธิอนันตศิริ\n",
       "612            นางสาวศุภิสรา ภูกาสอน\n",
       "613           นางสาวสุจิรา พื้นพันธ์\n",
       "614           นางสาวสุชานรี ศรีเฉลิม\n",
       "615              นางสาวอนุสรา เภาศรี\n",
       "616        นางสาวอภัชญา อุดมพีรกานต์\n",
       "617             นางสาวอุษณิษา แซ่แต้\n",
       "618            นายธรรมรักษ์ ไชยรักษ์\n",
       "619          นายวิชญ์นนท์ พิชยชาญสิน\n",
       "620        นางสาวญาดา ธรรมจริยาวัฒน์\n",
       "Name: Name, dtype: object"
      ]
     },
     "execution_count": 85,
     "metadata": {},
     "output_type": "execute_result"
    }
   ],
   "source": [
    "database['Name'][592:]"
   ]
  },
  {
   "cell_type": "code",
   "execution_count": 91,
   "metadata": {},
   "outputs": [],
   "source": [
    "database_file = []\n",
    "database = {}"
   ]
  },
  {
   "cell_type": "code",
   "execution_count": 87,
   "metadata": {},
   "outputs": [],
   "source": [
    "for name in database['Name'][592:]:\n",
    "    data = {\n",
    "        'student_id':\"\",\n",
    "        'name':name,\n",
    "        'class':\"6/3\",\n",
    "        'image':f\"Database/6-3/{name.replace(' ','_')}.jpg\",\n",
    "        'encoded_face':\"\"\n",
    "        \n",
    "    }\n",
    "    database_file.append(data)\n"
   ]
  },
  {
   "cell_type": "code",
   "execution_count": 88,
   "metadata": {},
   "outputs": [
    {
     "data": {
      "text/plain": [
       "[{'student_id': '',\n",
       "  'name': 'นายกานต์ เล็กสุนทร',\n",
       "  'class': '6/3',\n",
       "  'image': 'Database/6-3/นายกานต์_เล็กสุนทร.jpg'},\n",
       " {'student_id': '',\n",
       "  'name': 'นางสาวจิดาภา ฤชุวรารักษ์',\n",
       "  'class': '6/3',\n",
       "  'image': 'Database/6-3/นางสาวจิดาภา_ฤชุวรารักษ์.jpg'},\n",
       " {'student_id': '',\n",
       "  'name': 'นายญาณวัฒน์ สมอ่อน',\n",
       "  'class': '6/3',\n",
       "  'image': 'Database/6-3/นายญาณวัฒน์_สมอ่อน.jpg'},\n",
       " {'student_id': '',\n",
       "  'name': 'นายฐิธติรัฐ รัตนพงศ์กิตติ',\n",
       "  'class': '6/3',\n",
       "  'image': 'Database/6-3/นายฐิธติรัฐ_รัตนพงศ์กิตติ.jpg'},\n",
       " {'student_id': '',\n",
       "  'name': 'นายณัฐภัทร แสงสว่าง',\n",
       "  'class': '6/3',\n",
       "  'image': 'Database/6-3/นายณัฐภัทร_แสงสว่าง.jpg'},\n",
       " {'student_id': '',\n",
       "  'name': 'นายทักษ์ดนัย ศรีสุข',\n",
       "  'class': '6/3',\n",
       "  'image': 'Database/6-3/นายทักษ์ดนัย_ศรีสุข.jpg'},\n",
       " {'student_id': '',\n",
       "  'name': 'นายธีรพิชญ์ ศิริไชยบูลย์วัฒน์',\n",
       "  'class': '6/3',\n",
       "  'image': 'Database/6-3/นายธีรพิชญ์_ศิริไชยบูลย์วัฒน์.jpg'},\n",
       " {'student_id': '',\n",
       "  'name': 'นางสาวนภสกรณ์ สุวรรณบุตร',\n",
       "  'class': '6/3',\n",
       "  'image': 'Database/6-3/นางสาวนภสกรณ์_สุวรรณบุตร.jpg'},\n",
       " {'student_id': '',\n",
       "  'name': 'นางสาวนภสร จางคกูล',\n",
       "  'class': '6/3',\n",
       "  'image': 'Database/6-3/นางสาวนภสร_จางคกูล.jpg'},\n",
       " {'student_id': '',\n",
       "  'name': 'นางสาวนันทกานต์ กรเกษม',\n",
       "  'class': '6/3',\n",
       "  'image': 'Database/6-3/นางสาวนันทกานต์_กรเกษม.jpg'},\n",
       " {'student_id': '',\n",
       "  'name': 'นายบุญพบ สุตะพันธ์',\n",
       "  'class': '6/3',\n",
       "  'image': 'Database/6-3/นายบุญพบ_สุตะพันธ์.jpg'},\n",
       " {'student_id': '',\n",
       "  'name': 'นางสาวเบญญาภา กุยแก้ว',\n",
       "  'class': '6/3',\n",
       "  'image': 'Database/6-3/นางสาวเบญญาภา_กุยแก้ว.jpg'},\n",
       " {'student_id': '',\n",
       "  'name': 'นางสาวพรพิชญ์พัณ เนียมหอม',\n",
       "  'class': '6/3',\n",
       "  'image': 'Database/6-3/นางสาวพรพิชญ์พัณ_เนียมหอม.jpg'},\n",
       " {'student_id': '',\n",
       "  'name': 'นางสาวพลอยไพลิน จันทร์ศรี',\n",
       "  'class': '6/3',\n",
       "  'image': 'Database/6-3/นางสาวพลอยไพลิน_จันทร์ศรี.jpg'},\n",
       " {'student_id': '',\n",
       "  'name': 'นายพัทธนันท์ นุ่มผ่อง',\n",
       "  'class': '6/3',\n",
       "  'image': 'Database/6-3/นายพัทธนันท์_นุ่มผ่อง.jpg'},\n",
       " {'student_id': '',\n",
       "  'name': 'นางสาวพิชญาภัค ภูวทิตย์',\n",
       "  'class': '6/3',\n",
       "  'image': 'Database/6-3/นางสาวพิชญาภัค_ภูวทิตย์.jpg'},\n",
       " {'student_id': '',\n",
       "  'name': 'นายพิทยุตม์ กิ่งแก้ว',\n",
       "  'class': '6/3',\n",
       "  'image': 'Database/6-3/นายพิทยุตม์_กิ่งแก้ว.jpg'},\n",
       " {'student_id': '',\n",
       "  'name': 'นางสาวลักษิกา โพยนอก',\n",
       "  'class': '6/3',\n",
       "  'image': 'Database/6-3/นางสาวลักษิกา_โพยนอก.jpg'},\n",
       " {'student_id': '',\n",
       "  'name': 'นางสาวศรัณย์พร เลิศสีมาพร',\n",
       "  'class': '6/3',\n",
       "  'image': 'Database/6-3/นางสาวศรัณย์พร_เลิศสีมาพร.jpg'},\n",
       " {'student_id': '',\n",
       "  'name': 'นายศศิกฤษฎิ์ ฤทธิอนันตศิริ',\n",
       "  'class': '6/3',\n",
       "  'image': 'Database/6-3/นายศศิกฤษฎิ์_ฤทธิอนันตศิริ.jpg'},\n",
       " {'student_id': '',\n",
       "  'name': 'นางสาวศุภิสรา ภูกาสอน',\n",
       "  'class': '6/3',\n",
       "  'image': 'Database/6-3/นางสาวศุภิสรา_ภูกาสอน.jpg'},\n",
       " {'student_id': '',\n",
       "  'name': 'นางสาวสุจิรา พื้นพันธ์',\n",
       "  'class': '6/3',\n",
       "  'image': 'Database/6-3/นางสาวสุจิรา_พื้นพันธ์.jpg'},\n",
       " {'student_id': '',\n",
       "  'name': 'นางสาวสุชานรี ศรีเฉลิม',\n",
       "  'class': '6/3',\n",
       "  'image': 'Database/6-3/นางสาวสุชานรี_ศรีเฉลิม.jpg'},\n",
       " {'student_id': '',\n",
       "  'name': 'นางสาวอนุสรา เภาศรี',\n",
       "  'class': '6/3',\n",
       "  'image': 'Database/6-3/นางสาวอนุสรา_เภาศรี.jpg'},\n",
       " {'student_id': '',\n",
       "  'name': 'นางสาวอภัชญา อุดมพีรกานต์',\n",
       "  'class': '6/3',\n",
       "  'image': 'Database/6-3/นางสาวอภัชญา_อุดมพีรกานต์.jpg'},\n",
       " {'student_id': '',\n",
       "  'name': 'นางสาวอุษณิษา แซ่แต้',\n",
       "  'class': '6/3',\n",
       "  'image': 'Database/6-3/นางสาวอุษณิษา_แซ่แต้.jpg'},\n",
       " {'student_id': '',\n",
       "  'name': 'นายธรรมรักษ์ ไชยรักษ์',\n",
       "  'class': '6/3',\n",
       "  'image': 'Database/6-3/นายธรรมรักษ์_ไชยรักษ์.jpg'},\n",
       " {'student_id': '',\n",
       "  'name': 'นายวิชญ์นนท์ พิชยชาญสิน',\n",
       "  'class': '6/3',\n",
       "  'image': 'Database/6-3/นายวิชญ์นนท์_พิชยชาญสิน.jpg'},\n",
       " {'student_id': '',\n",
       "  'name': 'นางสาวญาดา ธรรมจริยาวัฒน์',\n",
       "  'class': '6/3',\n",
       "  'image': 'Database/6-3/นางสาวญาดา_ธรรมจริยาวัฒน์.jpg'}]"
      ]
     },
     "execution_count": 88,
     "metadata": {},
     "output_type": "execute_result"
    }
   ],
   "source": [
    "database_file"
   ]
  },
  {
   "cell_type": "code",
   "execution_count": null,
   "metadata": {},
   "outputs": [],
   "source": []
  }
 ],
 "metadata": {
  "kernelspec": {
   "display_name": "Python 3",
   "language": "python",
   "name": "python3"
  },
  "language_info": {
   "codemirror_mode": {
    "name": "ipython",
    "version": 3
   },
   "file_extension": ".py",
   "mimetype": "text/x-python",
   "name": "python",
   "nbconvert_exporter": "python",
   "pygments_lexer": "ipython3",
   "version": "3.8.2"
  }
 },
 "nbformat": 4,
 "nbformat_minor": 4
}
